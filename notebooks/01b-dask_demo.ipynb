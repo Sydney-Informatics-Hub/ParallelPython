{
 "cells": [
  {
   "cell_type": "markdown",
   "metadata": {},
   "source": [
    "# Dask fundamentals\n",
    "\n",
    "<div class=\"questions\">\n",
    "\n",
    "### Questions\n",
    "\n",
    "- Exploring Dask in Data bound and Input-Output bound computations\n",
    "\n",
    "</div>\n",
    "\n",
    "<div class=\"objectives\">\n",
    "  \n",
    "### Objectives\n",
    "\n",
    "-  TODO\n",
    "\n",
    "</div>\n",
    "\n",
    "\n"
   ]
  },
  {
   "cell_type": "code",
   "execution_count": 1,
   "metadata": {},
   "outputs": [],
   "source": [
    "#More\n"
   ]
  },
  {
   "cell_type": "markdown",
   "metadata": {},
   "source": [
    "**TODO ** - more stuff\n",
    "Concept"
   ]
  },
  {
   "cell_type": "code",
   "execution_count": 5,
   "metadata": {},
   "outputs": [],
   "source": [
    "# Code"
   ]
  },
  {
   "cell_type": "markdown",
   "metadata": {},
   "source": [
    "<div class=\"challenge\">\n",
    "\n",
    "### Challenge \n",
    "\n",
    "TO DO - This describes a challenge.\n",
    "\n",
    "<details>\n",
    "<summary>Solution</summary>\n",
    "\n",
    "```python\n",
    "#Declare the name of the function\n",
    "def solveme(x):\n",
    "    '''Run code\n",
    "    '''  \n",
    "    \n",
    "    pass\n",
    "```\n",
    "</details>\n",
    "</div>"
   ]
  },
  {
   "cell_type": "code",
   "execution_count": null,
   "metadata": {},
   "outputs": [],
   "source": []
  },
  {
   "cell_type": "markdown",
   "metadata": {},
   "source": [
    "<div class=\"keypoints\">\n",
    "\n",
    "### Key points\n",
    "\n",
    "- TODO1\n",
    "- TODO1\n",
    "\n",
    "\n",
    "</div>\n"
   ]
  },
  {
   "cell_type": "markdown",
   "metadata": {},
   "source": []
  }
 ],
 "metadata": {
  "kernelspec": {
   "display_name": "Python 3.9.13 ('parallel')",
   "language": "python",
   "name": "python3"
  },
  "language_info": {
   "codemirror_mode": {
    "name": "ipython",
    "version": 3
   },
   "file_extension": ".py",
   "mimetype": "text/x-python",
   "name": "python",
   "nbconvert_exporter": "python",
   "pygments_lexer": "ipython3",
   "version": "3.9.13"
  },
  "vscode": {
   "interpreter": {
    "hash": "c5664838a1d9cc8c44e1e40f6b8bf12fcc6746780690c0821c07217a3c037223"
   }
  }
 },
 "nbformat": 4,
 "nbformat_minor": 4
}
