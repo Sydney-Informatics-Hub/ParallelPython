{
 "cells": [
  {
   "cell_type": "markdown",
   "metadata": {},
   "source": [
    "## Polars - Getting to know the Syntax\n",
    "\n",
    "Polars is a lightning fast DataFrame library. The [key features](https://docs.pola.rs/) of polars are:\n",
    "\n",
    "**Fast and Accessible**: Written from scratch in Rust, designed close to the machine and without external dependencies. It also has python and R bindings!\n",
    "\n",
    "**I/O**: First class support for all common data storage layers: local, cloud storage & databases.\n",
    "\n",
    "**Handle Datasets** larger than RAM\n",
    "\n",
    "**Intuitive API**: Write your queries the way they were intended. Polars, internally, will determine the most efficient way to execute using its query optimizer.\n",
    "Out of Core: The streaming API allows you to process your results without requiring all your data to be in memory at the same time\n",
    "\n",
    "**Parallel**: Utilises the power of your machine by dividing the workload among the available CPU cores without any additional configuration.\n",
    "\n",
    "\n",
    "The philosophy of Polars is to provide a dataframe library that utilises available cores, has an intuitive api and is performance - hence adheres to a strict schema (data-types should be known before running the query).\n",
    "\n",
    "\n",
    "In its domains specific language that is designed to be human readable while performing common data manipulation processes, polars describes its operations with [Contexts](https://docs.pola.rs/user-guide/concepts/contexts/) and [Expressions](https://docs.pola.rs/user-guide/concepts/expressions/). Contexts refers to the context in which an expression needs to be evaluated - i.e Filtering, Selecting and Groupby aggregations.  \n",
    "\n",
    "\n",
    "`select` : select columns\n",
    "\n",
    "`filter` : filter rows\n",
    "\n",
    "`with_columns` : create / do something with columns\n",
    "\n",
    "`group_by` : group by a factor and follow with\n",
    "\n",
    "`agg` : aggregation\n",
    "    "
   ]
  },
  {
   "cell_type": "code",
   "execution_count": 59,
   "metadata": {},
   "outputs": [],
   "source": [
    "import polars as pl\n",
    "from datetime import datetime\n",
    "\n",
    "# Data Frames and Series are supported by polars\n",
    "df = pl.DataFrame(\n",
    "    {\n",
    "        \"integer\": [1, 2, 3],\n",
    "        \"date\": [\n",
    "            datetime(2025, 1, 1),\n",
    "            datetime(2025, 1, 2),\n",
    "            datetime(2025, 1, 3),\n",
    "        ],\n",
    "        \"float\": [4.0, 5.0, 6.0],\n",
    "        \"string\": [\"a\", \"b\", \"c\"],\n",
    "    }\n",
    ")\n",
    "# Seriers types need to be the same\n",
    "sr = pl.Series([1,2,3,4,500])\n",
    "# can specify the data types for better performance\n",
    "\n",
    "sr = pl.Series([1,2,3,4,500],dtype=pl.Int64)\n",
    "\n",
    "\n",
    "df2 = pl.DataFrame(\n",
    "    {\n",
    "        \"x\": range(8),\n",
    "        \"y\": [\"A\", \"A\", \"A\", \"B\", \"B\", \"C\", \"X\", \"X\"],\n",
    "    }\n",
    ")"
   ]
  },
  {
   "cell_type": "code",
   "execution_count": 60,
   "metadata": {},
   "outputs": [
    {
     "data": {
      "text/html": [
       "<div><style>\n",
       ".dataframe > thead > tr,\n",
       ".dataframe > tbody > tr {\n",
       "  text-align: right;\n",
       "  white-space: pre-wrap;\n",
       "}\n",
       "</style>\n",
       "<small>shape: (3, 4)</small><table border=\"1\" class=\"dataframe\"><thead><tr><th>integer</th><th>date</th><th>float</th><th>string</th></tr><tr><td>i64</td><td>datetime[μs]</td><td>f64</td><td>str</td></tr></thead><tbody><tr><td>1</td><td>2025-01-01 00:00:00</td><td>4.0</td><td>&quot;a&quot;</td></tr><tr><td>2</td><td>2025-01-02 00:00:00</td><td>5.0</td><td>&quot;b&quot;</td></tr><tr><td>3</td><td>2025-01-03 00:00:00</td><td>6.0</td><td>&quot;c&quot;</td></tr></tbody></table></div>"
      ],
      "text/plain": [
       "shape: (3, 4)\n",
       "┌─────────┬─────────────────────┬───────┬────────┐\n",
       "│ integer ┆ date                ┆ float ┆ string │\n",
       "│ ---     ┆ ---                 ┆ ---   ┆ ---    │\n",
       "│ i64     ┆ datetime[μs]        ┆ f64   ┆ str    │\n",
       "╞═════════╪═════════════════════╪═══════╪════════╡\n",
       "│ 1       ┆ 2025-01-01 00:00:00 ┆ 4.0   ┆ a      │\n",
       "│ 2       ┆ 2025-01-02 00:00:00 ┆ 5.0   ┆ b      │\n",
       "│ 3       ┆ 2025-01-03 00:00:00 ┆ 6.0   ┆ c      │\n",
       "└─────────┴─────────────────────┴───────┴────────┘"
      ]
     },
     "execution_count": 60,
     "metadata": {},
     "output_type": "execute_result"
    }
   ],
   "source": [
    "# To inspect the data you can use head(),tail(),print()\n",
    "# sample() to select random rows, and describe() for sumamry statistics\n",
    "df.describe()\n",
    "df.head(3)"
   ]
  },
  {
   "cell_type": "markdown",
   "metadata": {},
   "source": [
    "## Expressions "
   ]
  },
  {
   "cell_type": "markdown",
   "metadata": {},
   "source": [
    "Polars has a powerful concept called expressions that is central to its very fast performance.\n",
    "\n",
    "Expressions are at the core of many data science operations. Essentially they represent data transformations within the above contexts (selecting, filtering, aggregating). Common expressions are taking a sample of rows from a column, multiplying values in a column, extracting a column of years from dates ... and so on.\n",
    "\n",
    "The important thing about expressions in polar, and why its central to its very fast performance, is Polars perfoms:\n",
    "\n",
    "1. automatic query **optimization** on each expression\n",
    "\n",
    "2. automatic **parallelization** of expressions on many columns\n",
    "\n",
    "For more info and examples on [expressions](https://docs.pola.rs/user-guide/expressions/).\n"
   ]
  },
  {
   "cell_type": "markdown",
   "metadata": {},
   "source": [
    "## Learning the Syntax\n",
    "Basic examples of expressions and contexts are below."
   ]
  },
  {
   "cell_type": "code",
   "execution_count": 61,
   "metadata": {},
   "outputs": [
    {
     "data": {
      "text/html": [
       "<div><style>\n",
       ".dataframe > thead > tr,\n",
       ".dataframe > tbody > tr {\n",
       "  text-align: right;\n",
       "  white-space: pre-wrap;\n",
       "}\n",
       "</style>\n",
       "<small>shape: (4, 3)</small><table border=\"1\" class=\"dataframe\"><thead><tr><th>y</th><th>sum</th><th>count</th></tr><tr><td>str</td><td>i64</td><td>u32</td></tr></thead><tbody><tr><td>&quot;X&quot;</td><td>13</td><td>2</td></tr><tr><td>&quot;C&quot;</td><td>5</td><td>1</td></tr><tr><td>&quot;A&quot;</td><td>3</td><td>3</td></tr><tr><td>&quot;B&quot;</td><td>7</td><td>2</td></tr></tbody></table></div>"
      ],
      "text/plain": [
       "shape: (4, 3)\n",
       "┌─────┬─────┬───────┐\n",
       "│ y   ┆ sum ┆ count │\n",
       "│ --- ┆ --- ┆ ---   │\n",
       "│ str ┆ i64 ┆ u32   │\n",
       "╞═════╪═════╪═══════╡\n",
       "│ X   ┆ 13  ┆ 2     │\n",
       "│ C   ┆ 5   ┆ 1     │\n",
       "│ A   ┆ 3   ┆ 3     │\n",
       "│ B   ┆ 7   ┆ 2     │\n",
       "└─────┴─────┴───────┘"
      ]
     },
     "execution_count": 61,
     "metadata": {},
     "output_type": "execute_result"
    }
   ],
   "source": [
    "\n",
    "df.select(pl.col(\"float\")) # selecting a column\n",
    "\n",
    "df.select(pl.col(\"date\",\"string\")) # selecting multiple columns \n",
    "#(use \"*\" or pl.all() for all columns)\n",
    "\n",
    "df.filter(pl.col(\"integer\") >= 2)  #filtering rows\n",
    "\n",
    "df.filter((pl.col(\"integer\") >=2) & \n",
    "          (pl.col(\"float\") == 5.0)) #filtering rows with multiple conditions (| = or & = and)\n",
    "\n",
    "df.with_columns((pl.col(\"integer\") + 3).alias(\"new_column\")) # creating column and naming it\n",
    "\n",
    "df2.group_by(\"y\").agg(pl.col(\"x\").sum().alias(\"sum\"), #aggregate after groupby\n",
    "                      pl.col(\"x\").count().alias(\"count\"))\n"
   ]
  },
  {
   "cell_type": "code",
   "execution_count": 62,
   "metadata": {},
   "outputs": [],
   "source": [
    "# Can combine expressions for compactness\n",
    "df3 = df.with_columns((pl.col(\"float\") * pl.col(\"integer\"))\n",
    "                .alias(\"product\")).select(pl.all().exclude(\"integer\")).select(pl.all())\n",
    "                \n"
   ]
  },
  {
   "cell_type": "markdown",
   "metadata": {},
   "source": [
    "\n",
    "\n",
    "Polars supports the traditional join strategies by the join() method on a dataframe. Specifying the how argument alters the join type. See [here](https://docs.pola.rs/user-guide/transformations/joins/) for examples.\n",
    "\n"
   ]
  },
  {
   "cell_type": "code",
   "execution_count": 63,
   "metadata": {},
   "outputs": [],
   "source": [
    "# Can join tables in the usual way. Specific joing expressed via the \"how\" parameter with inner as default. \n",
    "\n",
    "joined = df.join(df2, left_on=\"integer\", right_on=\"x\")"
   ]
  },
  {
   "cell_type": "markdown",
   "metadata": {},
   "source": [
    "### Data types\n",
    "\n",
    "Under the hood polars use Arrow data types and memory arrays and offer support for String, Numberic, Nested, Temporay and other types. Most data types are specified by the arrow [syntax](https://docs.pola.rs/user-guide/concepts/data-types/overview/) with the exception of String, Categorical and Object types.\n",
    "\n",
    "Categorical data represents string data where the values in the column have a finite set of values (yet for performance implementation different to strings). Polars supports both **Enum** data type, where categories are known up front, and the more flexible **Categorical** data type where values are not known beforehand. Conversion between them is trivial. Relying on polars inferring the categories with Categorical types comes at a performance cost (as the encoding is a dictionary like object). See [Categorical](https://docs.pola.rs/user-guide/concepts/data-types/categoricals/#categorical-data-type) page for more information."
   ]
  },
  {
   "cell_type": "code",
   "execution_count": 64,
   "metadata": {},
   "outputs": [],
   "source": [
    "# Use Enum where categories are known\n",
    "cat_types = pl.Enum([\"polar\",\"panda\",\"teddy\"])\n",
    "animals = pl.Series([\"polar\",\"polar\",\"teddy\",\"panda\"],dtype= cat_types)\n",
    "# Use Categprical otherwise\n",
    "fictional_animals = pl.Series([\"poobear\",\"minimouse\",\"teddy\",\"poobear\"],dtype= pl.Categorical)\n"
   ]
  }
 ],
 "metadata": {
  "kernelspec": {
   "display_name": "quantum",
   "language": "python",
   "name": "python3"
  },
  "language_info": {
   "codemirror_mode": {
    "name": "ipython",
    "version": 3
   },
   "file_extension": ".py",
   "mimetype": "text/x-python",
   "name": "python",
   "nbconvert_exporter": "python",
   "pygments_lexer": "ipython3",
   "version": "3.9.19"
  }
 },
 "nbformat": 4,
 "nbformat_minor": 2
}
