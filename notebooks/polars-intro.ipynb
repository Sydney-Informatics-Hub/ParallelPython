{
 "cells": [
  {
   "cell_type": "markdown",
   "metadata": {},
   "source": [
    "## Polars\n",
    "\n",
    "Polars is a lightning fast DataFrame library. The [key features](https://docs.pola.rs/) of polars are:\n",
    "\n",
    "**Fast and Accessible**: Written from scratch in Rust, designed close to the machine and without external dependencies. It also has python and R bindings!\n",
    "\n",
    "**I/O**: First class support for all common data storage layers: local, cloud storage & databases.\n",
    "\n",
    "**Handle Datasets** larger than RAM\n",
    "\n",
    "**Intuitive API**: Write your queries the way they were intended. Polars, internally, will determine the most efficient way to execute using its query optimizer.\n",
    "Out of Core: The streaming API allows you to process your results without requiring all your data to be in memory at the same time\n",
    "\n",
    "**Parallel**: Utilises the power of your machine by dividing the workload among the available CPU cores without any additional configuration.\n",
    "\n",
    "\n",
    "The philosophy of Polars is to provide a dataframe library that utilises available cores, has an intuitive api and is performant - hence adheres to a strict schema (data-types should be known before running the query).\n",
    "\n",
    "![polars](../fig/polars.png)\n",
    "\n",
    "### Polars concepts\n",
    "\n",
    "Data Frames and Series are the primary data structures supported by polars. Polars describes common operations available as [Contexts](https://docs.pola.rs/user-guide/concepts/contexts/) and [Expressions](https://docs.pola.rs/user-guide/concepts/expressions/). \n",
    "\n",
    "Expressions are essentially data transformations. Polars automatically makes each expression parallel - a main reason why polars is so quick. Within an expression there may be multiple expressions and parallelization going on. Polars performs query optimisations on every expression.\n",
    "\n",
    "Contexts refers to the context in which an expression needs to be evaluated. Specifically: \n",
    "  \n",
    "\n",
    "- **select** : selecting columns\n",
    "\n",
    "- **filter** : filtering rows\n",
    "\n",
    "- **with_columns** : create / do something with columns\n",
    "\n",
    "- **group_by** : group by a factor and follow with\n",
    "\n",
    "- **agg** : aggregation\n",
    "    "
   ]
  },
  {
   "cell_type": "code",
   "execution_count": 18,
   "metadata": {},
   "outputs": [],
   "source": [
    "# fetching some data ----------------------------------------------------------------\n",
    "import polars as pl\n",
    "from datetime import datetime\n",
    "!pip install ucimlrepo\n",
    "from ucimlrepo import fetch_ucirepo # fetch iris dataset\n",
    "import pandas as pd\n",
    "\n",
    "iris = fetch_ucirepo(id=53) \n",
    "X = iris.data.features \n",
    "y = iris.data.targets \n",
    "iris_df = pd.concat([X, y], axis=1)\n",
    "iris_df.rename(columns={'class': 'species'}, inplace=True)\n",
    "iris_df.to_csv(\"iris_data.csv\", index=False)\n",
    "\n",
    "# load a pandas.DataFrame into a polars.DataFrame\n",
    "df = pl.DataFrame(\n",
    "    {\n",
    "        \"integer\": [1, 2, 3,4],\n",
    "        \"date\": [\n",
    "            datetime(2025, 1, 1),\n",
    "            datetime(2025, 1, 2),\n",
    "            datetime(2025, 1, 3),\n",
    "            datetime(2025, 1, 3),\n",
    "        ],\n",
    "        \"float\": [4.0, 5.0, 6.0,12],\n",
    "        \"string\": [\"a\", \"b\", \"c\",\"b\"],\n",
    "    }\n",
    ")\n",
    "# Series types need to be the same\n",
    "sr = pl.Series([1,2,3,4,500])\n",
    "# can specify the data types for better performance\n",
    "sr = pl.Series([1,2,3,4,500],dtype=pl.Int64)"
   ]
  },
  {
   "cell_type": "code",
   "execution_count": 6,
   "metadata": {},
   "outputs": [
    {
     "data": {
      "text/html": [
       "<div><style>\n",
       ".dataframe > thead > tr,\n",
       ".dataframe > tbody > tr {\n",
       "  text-align: right;\n",
       "  white-space: pre-wrap;\n",
       "}\n",
       "</style>\n",
       "<small>shape: (3, 4)</small><table border=\"1\" class=\"dataframe\"><thead><tr><th>integer</th><th>date</th><th>float</th><th>string</th></tr><tr><td>i64</td><td>datetime[μs]</td><td>f64</td><td>str</td></tr></thead><tbody><tr><td>1</td><td>2025-01-01 00:00:00</td><td>4.0</td><td>&quot;a&quot;</td></tr><tr><td>2</td><td>2025-01-02 00:00:00</td><td>5.0</td><td>&quot;b&quot;</td></tr><tr><td>3</td><td>2025-01-03 00:00:00</td><td>6.0</td><td>&quot;c&quot;</td></tr></tbody></table></div>"
      ],
      "text/plain": [
       "shape: (3, 4)\n",
       "┌─────────┬─────────────────────┬───────┬────────┐\n",
       "│ integer ┆ date                ┆ float ┆ string │\n",
       "│ ---     ┆ ---                 ┆ ---   ┆ ---    │\n",
       "│ i64     ┆ datetime[μs]        ┆ f64   ┆ str    │\n",
       "╞═════════╪═════════════════════╪═══════╪════════╡\n",
       "│ 1       ┆ 2025-01-01 00:00:00 ┆ 4.0   ┆ a      │\n",
       "│ 2       ┆ 2025-01-02 00:00:00 ┆ 5.0   ┆ b      │\n",
       "│ 3       ┆ 2025-01-03 00:00:00 ┆ 6.0   ┆ c      │\n",
       "└─────────┴─────────────────────┴───────┴────────┘"
      ]
     },
     "execution_count": 6,
     "metadata": {},
     "output_type": "execute_result"
    }
   ],
   "source": [
    "# To inspect the data\n",
    "df.describe() #sumamry statistics\n",
    "df.schema #column names and types\n",
    "df.sample(n=2) # random sample of n rows\n",
    "df.head(3)"
   ]
  },
  {
   "cell_type": "markdown",
   "metadata": {},
   "source": [
    "## Getting to know the syntax\n",
    "\n",
    "We will cover some basic syntax. Check out the [API documentation](https://docs.pola.rs/api/python/stable/reference/index.html) for more information.\n",
    "\n",
    "### Reading and Writing Data\n",
    "\n",
    "Polars support reading and writing data many types of files. It also supporting reading from a database, or cloud storage. See the [IO Documentation](https://docs.pola.rs/user-guide/io/) for more information. "
   ]
  },
  {
   "cell_type": "code",
   "execution_count": 7,
   "metadata": {},
   "outputs": [
    {
     "data": {
      "text/html": [
       "<div>\n",
       "<style scoped>\n",
       "    .dataframe tbody tr th:only-of-type {\n",
       "        vertical-align: middle;\n",
       "    }\n",
       "\n",
       "    .dataframe tbody tr th {\n",
       "        vertical-align: top;\n",
       "    }\n",
       "\n",
       "    .dataframe thead th {\n",
       "        text-align: right;\n",
       "    }\n",
       "</style>\n",
       "<table border=\"1\" class=\"dataframe\">\n",
       "  <thead>\n",
       "    <tr style=\"text-align: right;\">\n",
       "      <th></th>\n",
       "      <th>integer</th>\n",
       "      <th>date</th>\n",
       "      <th>float</th>\n",
       "      <th>string</th>\n",
       "    </tr>\n",
       "  </thead>\n",
       "  <tbody>\n",
       "    <tr>\n",
       "      <th>0</th>\n",
       "      <td>1</td>\n",
       "      <td>2025-01-01</td>\n",
       "      <td>4.0</td>\n",
       "      <td>a</td>\n",
       "    </tr>\n",
       "    <tr>\n",
       "      <th>1</th>\n",
       "      <td>2</td>\n",
       "      <td>2025-01-02</td>\n",
       "      <td>5.0</td>\n",
       "      <td>b</td>\n",
       "    </tr>\n",
       "    <tr>\n",
       "      <th>2</th>\n",
       "      <td>3</td>\n",
       "      <td>2025-01-03</td>\n",
       "      <td>6.0</td>\n",
       "      <td>c</td>\n",
       "    </tr>\n",
       "    <tr>\n",
       "      <th>3</th>\n",
       "      <td>4</td>\n",
       "      <td>2025-01-03</td>\n",
       "      <td>12.0</td>\n",
       "      <td>b</td>\n",
       "    </tr>\n",
       "  </tbody>\n",
       "</table>\n",
       "</div>"
      ],
      "text/plain": [
       "   integer       date  float string\n",
       "0        1 2025-01-01    4.0      a\n",
       "1        2 2025-01-02    5.0      b\n",
       "2        3 2025-01-03    6.0      c\n",
       "3        4 2025-01-03   12.0      b"
      ]
     },
     "execution_count": 7,
     "metadata": {},
     "output_type": "execute_result"
    }
   ],
   "source": [
    "# writing data to disk\n",
    "df.write_csv(\"output.csv\")\n",
    "df.write_parquet(\"output.parquet\")\n",
    "# reading back into a polars dataframe\n",
    "new_df = pl.read_csv(\"output.csv\")\n",
    "new_df = pl.read_parquet(\"output.parquet\")\n",
    "\n",
    "# can convert back to pandas dataframe (or other types)\n",
    "df.to_pandas() "
   ]
  },
  {
   "cell_type": "code",
   "execution_count": 8,
   "metadata": {},
   "outputs": [
    {
     "data": {
      "text/html": [
       "<div><style>\n",
       ".dataframe > thead > tr,\n",
       ".dataframe > tbody > tr {\n",
       "  text-align: right;\n",
       "  white-space: pre-wrap;\n",
       "}\n",
       "</style>\n",
       "<small>shape: (3, 4)</small><table border=\"1\" class=\"dataframe\"><thead><tr><th>string</th><th>sum</th><th>earliest</th><th>float</th></tr><tr><td>str</td><td>i64</td><td>datetime[μs]</td><td>list[f64]</td></tr></thead><tbody><tr><td>&quot;b&quot;</td><td>6</td><td>2025-01-02 00:00:00</td><td>[2.5, 3.0]</td></tr><tr><td>&quot;a&quot;</td><td>1</td><td>2025-01-01 00:00:00</td><td>[4.0]</td></tr><tr><td>&quot;c&quot;</td><td>3</td><td>2025-01-03 00:00:00</td><td>[2.0]</td></tr></tbody></table></div>"
      ],
      "text/plain": [
       "shape: (3, 4)\n",
       "┌────────┬─────┬─────────────────────┬────────────┐\n",
       "│ string ┆ sum ┆ earliest            ┆ float      │\n",
       "│ ---    ┆ --- ┆ ---                 ┆ ---        │\n",
       "│ str    ┆ i64 ┆ datetime[μs]        ┆ list[f64]  │\n",
       "╞════════╪═════╪═════════════════════╪════════════╡\n",
       "│ b      ┆ 6   ┆ 2025-01-02 00:00:00 ┆ [2.5, 3.0] │\n",
       "│ a      ┆ 1   ┆ 2025-01-01 00:00:00 ┆ [4.0]      │\n",
       "│ c      ┆ 3   ┆ 2025-01-03 00:00:00 ┆ [2.0]      │\n",
       "└────────┴─────┴─────────────────────┴────────────┘"
      ]
     },
     "execution_count": 8,
     "metadata": {},
     "output_type": "execute_result"
    }
   ],
   "source": [
    "# selecting columns ----------------------------------------------------------------\n",
    "\n",
    "df.select(pl.col(\"float\")) # selecting a column\n",
    "\n",
    "df.select(pl.col(\"date\",\"string\")) # selecting multiple columns \n",
    "\n",
    "df.select(pl.col(\"*\").exclude(\"string\")) # select all columns then exclude\n",
    "\n",
    "df.select(pl.col(\"^(da|fl).*$\")) # supports regular expressions\n",
    "\n",
    "# selectors are intuitive helper funtions for selecting columns by name or type\n",
    "import polars.selectors as cs   \n",
    "\n",
    "df.select(cs.integer() | cs.contains(\"ate\")) # select all columns that are integers or contains ate\n",
    "\n",
    "# filtering rows ---------------------------------------------------------------------\n",
    "\n",
    "df.filter(pl.col(\"integer\") >= 2)  #filtering rows\n",
    "\n",
    "df.filter((pl.col(\"integer\") >=2) & \n",
    "          (pl.col(\"float\") == 5.0)) #filtering rows with multiple conditions (| = or & = and)\n",
    "\n",
    "#creating / manipulating columns -----------------------------------------------------\n",
    "\n",
    "df.with_columns((pl.col(\"integer\") + 3).alias(\"new_column\")) # creating column and naming it\n",
    "\n",
    "#group by aggregations ----------------------------------------------------------------\n",
    "\n",
    "df.group_by(\"string\").agg(pl.col(\"integer\").sum().alias(\"sum\"),\n",
    "                          pl.col(\"date\").sort().first().alias(\"earliest\"), \n",
    "                          pl.col(\"float\") / pl.col(\"integer\")) \n",
    "                                "
   ]
  },
  {
   "cell_type": "code",
   "execution_count": 9,
   "metadata": {},
   "outputs": [],
   "source": [
    "# Can combine expressions for compactness\n",
    "\n",
    "df3 = df.with_columns((pl.col(\"float\") * pl.col(\"integer\"))\n",
    "                .alias(\"product\")).select(pl.all().exclude(\"integer\"))"
   ]
  },
  {
   "cell_type": "markdown",
   "metadata": {},
   "source": [
    "### Links to documentation:\n",
    "\n",
    "\n",
    "[Selecting columns](https://docs.pola.rs/user-guide/expressions/column-selections/)\n",
    "\n",
    "[Aggregation](https://docs.pola.rs/user-guide/expressions/aggregation/)\n",
    "\n",
    "[Data Transformation](https://docs.pola.rs/user-guide/transformations/) such as join, Concatenation, pivot and unpivot. \n",
    "\n",
    "[Functions for expressions](https://docs.pola.rs/api/python/stable/reference/expressions/functions.html/). \n",
    "\n"
   ]
  },
  {
   "cell_type": "markdown",
   "metadata": {},
   "source": [
    "### Data types and casting\n",
    "\n",
    "Most [data types](https://docs.pola.rs/user-guide/concepts/data-types/overview/) are specified by the arrow syntax with the exception of String, Categorical and Object types.\n",
    "\n",
    "**Categorical** data represents string data where the values in the column have a finite set of values (yet for performance implementation different to strings). Polars supports both **Enum** data type, where categories are known up front, and the more flexible Categorical data type where values are not known beforehand. Conversion between them is trivial. Relying on polars inferring the categories with Categorical types comes at a performance cost. See [Categorical](https://docs.pola.rs/user-guide/concepts/data-types/categoricals/#categorical-data-type) page for more information.\n",
    "\n",
    "Casting (changing the datatypes) is enabled by either specifying the dtype argument or applying the cast() function."
   ]
  },
  {
   "cell_type": "code",
   "execution_count": 10,
   "metadata": {},
   "outputs": [
    {
     "data": {
      "text/html": [
       "<div><style>\n",
       ".dataframe > thead > tr,\n",
       ".dataframe > tbody > tr {\n",
       "  text-align: right;\n",
       "  white-space: pre-wrap;\n",
       "}\n",
       "</style>\n",
       "<small>shape: (4, 4)</small><table border=\"1\" class=\"dataframe\"><thead><tr><th>integer</th><th>date</th><th>float</th><th>string</th></tr><tr><td>f32</td><td>datetime[μs]</td><td>u8</td><td>str</td></tr></thead><tbody><tr><td>1.0</td><td>2025-01-01 00:00:00</td><td>4</td><td>&quot;a&quot;</td></tr><tr><td>2.0</td><td>2025-01-02 00:00:00</td><td>5</td><td>&quot;b&quot;</td></tr><tr><td>3.0</td><td>2025-01-03 00:00:00</td><td>6</td><td>&quot;c&quot;</td></tr><tr><td>4.0</td><td>2025-01-03 00:00:00</td><td>12</td><td>&quot;b&quot;</td></tr></tbody></table></div>"
      ],
      "text/plain": [
       "shape: (4, 4)\n",
       "┌─────────┬─────────────────────┬───────┬────────┐\n",
       "│ integer ┆ date                ┆ float ┆ string │\n",
       "│ ---     ┆ ---                 ┆ ---   ┆ ---    │\n",
       "│ f32     ┆ datetime[μs]        ┆ u8    ┆ str    │\n",
       "╞═════════╪═════════════════════╪═══════╪════════╡\n",
       "│ 1.0     ┆ 2025-01-01 00:00:00 ┆ 4     ┆ a      │\n",
       "│ 2.0     ┆ 2025-01-02 00:00:00 ┆ 5     ┆ b      │\n",
       "│ 3.0     ┆ 2025-01-03 00:00:00 ┆ 6     ┆ c      │\n",
       "│ 4.0     ┆ 2025-01-03 00:00:00 ┆ 12    ┆ b      │\n",
       "└─────────┴─────────────────────┴───────┴────────┘"
      ]
     },
     "execution_count": 10,
     "metadata": {},
     "output_type": "execute_result"
    }
   ],
   "source": [
    "# Use Enum where categories are known\n",
    "cat_types = pl.Enum([\"polar\",\"panda\",\"teddy\"])\n",
    "animals = pl.Series([\"polar\",\"polar\",\"teddy\",\"panda\"],dtype= cat_types)\n",
    "# Use Categprical otherwise\n",
    "fictional_animals = pl.Series([\"poobear\",\"minimouse\",\"teddy\",\"poobear\"],dtype= pl.Categorical)\n",
    "\n",
    "# casting columns to other data types with cast\n",
    "df.cast({\"integer\": pl.Float32, \"float\": pl.UInt8})\n"
   ]
  },
  {
   "cell_type": "markdown",
   "metadata": {},
   "source": [
    "## Lazy / Eager and Streaming\n",
    "\n",
    "Polars supports two modes of operation: lazy and eager. In the eager API the query is executed immediately while in the lazy API the query is only evaluated once it is 'needed'. Deferring the execution to the last minute can have significant performance advantages.\n"
   ]
  },
  {
   "cell_type": "markdown",
   "metadata": {},
   "source": [
    "An example of using the eager API is below. Every step is executed immediately returning the intermediate results. This can be very wasteful as we might do work or load extra data that is not being used.\n"
   ]
  },
  {
   "cell_type": "code",
   "execution_count": 11,
   "metadata": {},
   "outputs": [],
   "source": [
    "df = pl.read_csv(\"iris_data.csv\") #read the iris dataset\n",
    "df_small = df.filter(pl.col(\"sepal length\") > 5) #filter\n",
    "df_agg = df_small.group_by(\"species\").agg(pl.col(\"sepal width\").mean()) #mean of the sepal width per species"
   ]
  },
  {
   "cell_type": "markdown",
   "metadata": {},
   "source": [
    "If we instead used the lazy API and waited on execution until all the steps are defined then the query planner could perform various optimizations. "
   ]
  },
  {
   "cell_type": "code",
   "execution_count": 12,
   "metadata": {},
   "outputs": [],
   "source": [
    "q = (\n",
    "    pl.scan_csv(\"iris_data.csv\") #doesnt read it all before other operation is performed\n",
    "        .filter(pl.col(\"sepal length\") > 5)\n",
    "        .group_by(\"species\").agg(pl.col(\"sepal width\").mean())\n",
    ")\n",
    "\n",
    "q # a lazyframe\n",
    "\n",
    "df_agg = q.collect() # inform polars that you want to execute the query\n",
    "df_agg = q.collect(streaming=True) # with streaming mode to process in batches"
   ]
  },
  {
   "cell_type": "markdown",
   "metadata": {},
   "source": [
    "**Streaming** \n",
    "\n",
    "One additional benefit of the lazy API is that it allows queries to be executed in a streaming manner. Instead of processing the data all-at-once Polars can execute the query in batches allowing you to process datasets that are larger-than-memory. See [here](https://docs.pola.rs/user-guide/concepts/streaming/#when-is-streaming-available) for more info on streaming.\n",
    "\n",
    "**When to use Lazy versus Eager**:\n",
    "\n",
    "In general the lazy API should be preferred unless you are either interested in the intermediate results or are doing exploratory work and don't know yet what your query is going to look like\n",
    "\n",
    "When using Lazy mode, apply filteres as early as possible before reading the data. Only select column you need."
   ]
  },
  {
   "cell_type": "markdown",
   "metadata": {},
   "source": [
    "### Common Machine Learning Workflow\n",
    "\n",
    "Given your new knowledge of polars, here is an example on how to integrate into the usual pipeline consisting of data ingestion and manipulation, model preperation and prediction."
   ]
  },
  {
   "cell_type": "code",
   "execution_count": 15,
   "metadata": {},
   "outputs": [],
   "source": [
    "# loading libraries\n",
    "!pip install ucimlrepo\n",
    "!pip install scikit-learn==1.4\n",
    "import numpy as np\n",
    "from sklearn.tree import DecisionTreeClassifier\n",
    "from sklearn.tree import plot_tree\n",
    "from matplotlib import pylab as plt"
   ]
  },
  {
   "cell_type": "code",
   "execution_count": 14,
   "metadata": {},
   "outputs": [],
   "source": [
    "# Fit a descision tree from polars dataframe object\n",
    "df = pl.read_csv(\"iris_data.csv\")\n",
    "data = df.select(['sepal length', 'sepal width', 'petal length', 'petal width'])\n",
    "target = df.select(['species']).to_series()\n",
    "clf = DecisionTreeClassifier()\n",
    "model = clf.fit(data, target)"
   ]
  },
  {
   "cell_type": "code",
   "execution_count": 16,
   "metadata": {},
   "outputs": [
    {
     "data": {
      "image/png": "[encoded data removed]",
      "text/plain": [
       "<Figure size 640x480 with 1 Axes>"
      ]
     },
     "metadata": {},
     "output_type": "display_data"
    }
   ],
   "source": [
    "# Plot the decision tree\n",
    "plot_tree(clf, filled=True, feature_names=data.columns)\n",
    "plt.title(\"Decision tree trained on all the iris features\")\n",
    "plt.show()"
   ]
  },
  {
   "cell_type": "code",
   "execution_count": 17,
   "metadata": {},
   "outputs": [
    {
     "name": "stdout",
     "output_type": "stream",
     "text": [
      "shape: (8, 6)\n",
      "┌──────────────┬─────────────┬──────────────┬─────────────┬─────────────────┬─────────────────┐\n",
      "│ sepal length ┆ sepal width ┆ petal length ┆ petal width ┆ species         ┆ predict         │\n",
      "│ ---          ┆ ---         ┆ ---          ┆ ---         ┆ ---             ┆ ---             │\n",
      "│ f64          ┆ f64         ┆ f64          ┆ f64         ┆ str             ┆ str             │\n",
      "╞══════════════╪═════════════╪══════════════╪═════════════╪═════════════════╪═════════════════╡\n",
      "│ 6.0          ┆ 3.4         ┆ 4.5          ┆ 1.6         ┆ Iris-versicolor ┆ Iris-versicolor │\n",
      "│ 6.3          ┆ 2.8         ┆ 5.1          ┆ 1.5         ┆ Iris-virginica  ┆ Iris-virginica  │\n",
      "│ 5.7          ┆ 4.4         ┆ 1.5          ┆ 0.4         ┆ Iris-setosa     ┆ Iris-setosa     │\n",
      "│ 5.8          ┆ 2.7         ┆ 5.1          ┆ 1.9         ┆ Iris-virginica  ┆ Iris-virginica  │\n",
      "│ 6.6          ┆ 3.0         ┆ 4.4          ┆ 1.4         ┆ Iris-versicolor ┆ Iris-versicolor │\n",
      "│ 6.9          ┆ 3.1         ┆ 5.4          ┆ 2.1         ┆ Iris-virginica  ┆ Iris-virginica  │\n",
      "│ 6.7          ┆ 2.5         ┆ 5.8          ┆ 1.8         ┆ Iris-virginica  ┆ Iris-virginica  │\n",
      "│ 4.8          ┆ 3.0         ┆ 1.4          ┆ 0.3         ┆ Iris-setosa     ┆ Iris-setosa     │\n",
      "└──────────────┴─────────────┴──────────────┴─────────────┴─────────────────┴─────────────────┘\n"
     ]
    }
   ],
   "source": [
    "# Add predicitions to the polars dataframe\n",
    "predict_df = pl.concat([df,\n",
    "                        pl.DataFrame(model.predict(data), schema=[\"predict\"])],\n",
    "                       how=\"horizontal\")\n",
    "print(predict_df.sample(8))"
   ]
  },
  {
   "cell_type": "markdown",
   "metadata": {},
   "source": [
    "## Ecosystem\n",
    "\n",
    "On the [Supported Polars Ecosystem](https://docs.pola.rs/user-guide/ecosystem/#key-features) page you can find a non-exhaustive list of libraries and tools that support Polars. \n",
    "\n",
    "As the data ecosystem is evolving fast, more libraries will likely support Polars in the future.\n",
    "\n",
    "\n",
    "\n"
   ]
  }
 ],
 "metadata": {
  "kernelspec": {
   "display_name": "quantum",
   "language": "python",
   "name": "python3"
  },
  "language_info": {
   "codemirror_mode": {
    "name": "ipython",
    "version": 3
   },
   "file_extension": ".py",
   "mimetype": "text/x-python",
   "name": "python",
   "nbconvert_exporter": "python",
   "pygments_lexer": "ipython3",
   "version": "3.9.19"
  }
 },
 "nbformat": 4,
 "nbformat_minor": 2
}
