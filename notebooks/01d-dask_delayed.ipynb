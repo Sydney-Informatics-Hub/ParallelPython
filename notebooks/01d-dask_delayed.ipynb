{
 "cells": [
  {
   "cell_type": "markdown",
   "metadata": {},
   "source": [
    "# Scientific Computing - Applications to Quantum\n",
    "\n",
    "<div class=\"questions\">\n",
    "\n",
    "### Questions\n",
    "\n",
    "- Can Dask be used for embarassingly parallel problems?\n",
    "- How do you apply it to real functions?\n",
    "\n",
    "</div>\n",
    "\n",
    "<div class=\"objectives\">\n",
    "  \n",
    "### Objectives\n",
    "\n",
    "- Learn about dask delayed\n",
    "- Apply delayed to real problems\n",
    "- Learn to profile code\n",
    "\n",
    "</div>\n"
   ]
  },
  {
   "cell_type": "markdown",
   "metadata": {},
   "source": [
    "In this example we will explore the Schrodinger equation, and how we can use dask for an embarassingly parallel problem. \n",
    "  \n",
    "See here for similar problems: [https://github.com/natsunoyuki/Computational_Physics_in_Python](https://github.com/natsunoyuki/Computational_Physics_in_Python)"
   ]
  },
  {
   "cell_type": "code",
   "execution_count": null,
   "metadata": {},
   "outputs": [],
   "source": [
    "# Import the packages we need\n",
    "import numpy as np\n",
    "import matplotlib.pyplot as plt\n",
    "from scipy import sparse\n",
    "from scipy.sparse import linalg as sla\n",
    "import time"
   ]
  },
  {
   "cell_type": "markdown",
   "metadata": {},
   "source": [
    "Define a \"computationally intensive\" function. Here we are solving for the eigenvalues of ${\\displaystyle i\\hbar {\\frac {d}{dt}}\\vert Ψ (t)\\rangle ={\\hat {H}}\\vert Ψ (t)\\rangle }$"
   ]
  },
  {
   "cell_type": "code",
   "execution_count": null,
   "metadata": {},
   "outputs": [],
   "source": [
    "def schrodinger1D(Vfun):\n",
    "    \"\"\"\n",
    "    Solves the 1 dimensional Schrodinger equation numerically\n",
    "    \n",
    "    ------ Inputs ------\n",
    "    Vfun: function, potential energy function\n",
    "    \n",
    "    ------- Returns -------\n",
    "    evl: np.array, eigenvalues\n",
    "    evt: np.array, eigenvectors\n",
    "    x: np.array, x axis values\n",
    "        \n",
    "    ------- Params to set -------\n",
    "    xmin: minimum value of the x axis\n",
    "    xmax: maximum value of the x axis\n",
    "    Nx: number of finite elements in the x axis\n",
    "    neigs: number of eigenvalues to find\n",
    "    \"\"\"\n",
    "    \n",
    "    xmin = -10\n",
    "    xmax = 10\n",
    "    Nx = 250\n",
    "    neigs = 5\n",
    "\n",
    "    # for this code we are using Dirichlet Boundary Conditions\n",
    "    x = np.linspace(xmin, xmax, Nx)  # x axis grid\n",
    "    dx = x[1] - x[0]  # x axis step size\n",
    "    # Obtain the potential function values:\n",
    "    V = Vfun(x)\n",
    "    # create the Hamiltonian Operator matrix:\n",
    "    H = sparse.eye(Nx, Nx, format = \"lil\") * 2\n",
    "    for i in range(Nx - 1):\n",
    "        H[i, i + 1] = -1\n",
    "        H[i + 1, i] = -1\n",
    "        \n",
    "    H = H / (dx ** 2)\n",
    "    # Add the potential into the Hamiltonian\n",
    "    for i in range(Nx):\n",
    "        H[i, i] = H[i, i] + V[i]\n",
    "    # convert to csc matrix format\n",
    "    H = H.tocsc()\n",
    "    \n",
    "    # obtain neigs solutions from the sparse matrix\n",
    "    [evl, evt] = sla.eigs(H, k = neigs, which = \"SM\")\n",
    "    for i in range(neigs):\n",
    "        # normalize the eigen vectors\n",
    "        evt[:, i] = evt[:, i] / np.sqrt(\n",
    "                                np.trapz(np.conj(\n",
    "                                evt[:, i]) * evt[:, i], x))\n",
    "        # eigen values MUST be real:\n",
    "        evl = np.real(evl)\n",
    "    \n",
    "    return evl, evt, x"
   ]
  },
  {
   "cell_type": "markdown",
   "metadata": {},
   "source": [
    "Define a function to plot H."
   ]
  },
  {
   "cell_type": "code",
   "execution_count": null,
   "metadata": {},
   "outputs": [],
   "source": [
    "def plot_H(H,neigs=5):\n",
    "    evl = H[0] # energy eigen values\n",
    "    indices = np.argsort(evl)\n",
    "\n",
    "    print(\"Energy eigenvalues:\")\n",
    "    for i,j in enumerate(evl[indices]):\n",
    "        print(\"{}: {:.2f}\".format(i + 1, j))\n",
    "\n",
    "    evt = H[1] # eigen vectors \n",
    "    x = H[2] # x dimensions \n",
    "    i = 0\n",
    "\n",
    "    plt.figure(figsize = (4, 2))\n",
    "    while i < neigs:\n",
    "        n = indices[i]\n",
    "        y = np.real(np.conj(evt[:, n]) * evt[:, n])  \n",
    "        plt.subplot(neigs, 1, i+1)  \n",
    "        plt.plot(x, y)\n",
    "        plt.axis('off')\n",
    "        i = i + 1  \n",
    "    plt.show()"
   ]
  },
  {
   "cell_type": "markdown",
   "metadata": {},
   "source": [
    "Define some potenial energy functions we want to explore."
   ]
  },
  {
   "cell_type": "code",
   "execution_count": null,
   "metadata": {},
   "outputs": [],
   "source": [
    "def Vfun1(x, params=[1]):\n",
    "    '''\n",
    "    Quantum harmonic oscillator potential energy function\n",
    "    '''\n",
    "    V = params[0] * x**2\n",
    "    return V\n",
    "    \n",
    "    \n",
    "def Vfun2(x, params = 1e10):\n",
    "    '''\n",
    "    Infinite well potential energy function\n",
    "    '''\n",
    "    V = x * 0\n",
    "    V[:100]=params\n",
    "    V[-100:]=params\n",
    "    return V\n",
    "   \n",
    "    \n",
    "def Vfun3(x, params = [-0.5, 0.01, 7]):\n",
    "    '''\n",
    "    Double well potential energy function\n",
    "    '''\n",
    "    A = params[0]\n",
    "    B = params[1]\n",
    "    C = params[2]\n",
    "    V = A * x ** 2 + B * x ** 4 + C\n",
    "    return V\n",
    "\n",
    "## Plot these with \n",
    "# x = np.linspace(-10, 10, 100)\n",
    "# plt.plot(Vfun1(x))"
   ]
  },
  {
   "cell_type": "markdown",
   "metadata": {},
   "source": [
    "Let's get an idea for how long our schrodinger equation takes to solve."
   ]
  },
  {
   "cell_type": "code",
   "execution_count": null,
   "metadata": {},
   "outputs": [],
   "source": [
    "%%time\n",
    "H = schrodinger1D(Vfun1)"
   ]
  },
  {
   "cell_type": "code",
   "execution_count": null,
   "metadata": {},
   "outputs": [],
   "source": [
    "plot_H(H)"
   ]
  },
  {
   "cell_type": "markdown",
   "metadata": {},
   "source": [
    "Let's profile this function. Is there any way we can speed it up? Or apply some of the techniques we have learned? We can use the iPython/Jupyter magic command %%prun which uses *cProfile*.\n",
    "\n",
    "TLDR: maybe not! Not all code can be \"dasked\" or parallelised easily. "
   ]
  },
  {
   "cell_type": "code",
   "execution_count": null,
   "metadata": {},
   "outputs": [],
   "source": [
    "%%prun -s cumulative -q -l 10 -T profile.txt\n",
    "    \n",
    "H = schrodinger1D(Vfun1)"
   ]
  },
  {
   "cell_type": "markdown",
   "metadata": {},
   "source": [
    "```\n",
    "         51234 function calls (51201 primitive calls) in 243.228 seconds\n",
    "\n",
    "   Ordered by: cumulative time\n",
    "   List reduced from 214 to 10 due to restriction <10>\n",
    "\n",
    "   ncalls  tottime  percall  cumtime  percall filename:lineno(function)\n",
    "        1    0.000    0.000  243.228  243.228 {built-in method builtins.exec}\n",
    "        1    0.000    0.000  243.228  243.228 <string>:1(<module>)\n",
    "        1    0.003    0.003  243.227  243.227 3456611332.py:13(schrodinger1D)\n",
    "        1    0.303    0.303  243.196  243.196 arpack.py:1096(eigs)\n",
    "      876  240.090    0.274  242.492    0.277 arpack.py:719(iterate)\n",
    "      875    0.121    0.000    2.402    0.003 _interface.py:201(matvec)\n",
    "      875    0.107    0.000    2.173    0.002 _interface.py:189(_matvec)\n",
    "      875    0.205    0.000    2.059    0.002 _interface.py:303(matmat)\n",
    "      875    0.008    0.000    1.852    0.002 _interface.py:730(_matmat)\n",
    "      875    0.104    0.000    1.844    0.002 _base.py:400(dot)\n",
    " ```\n",
    " \n",
    "Okay. There may not be anything we can improve of greatly. The slowest part is a highly optimised scipy subroutine that is calling fortran under-the-hood! So what if we wanted to run this function 2 times, 3 times, a million times? Perhaps trying different configuration parameters, or specifically here, different potential energy functions."
   ]
  },
  {
   "cell_type": "code",
   "execution_count": null,
   "metadata": {},
   "outputs": [],
   "source": [
    "#The slow way: Loop through each of the PE definitions \n",
    "# and run the function one at a time.\n",
    "H = []\n",
    "for f in [Vfun1,Vfun2,Vfun3] :\n",
    "    tic = time.time()\n",
    "    result = schrodinger1D(f)\n",
    "    print(time.time() - tic, \"s for\", f)\n",
    "    print(\"{:.4f}s for {}\".format(time.time()-tic, f))\n",
    "    H.append(result)\n",
    "    \n",
    "# plot_H(H[0])\n",
    "# plot_H(H[1])\n",
    "# plot_H(H[2])\n"
   ]
  },
  {
   "cell_type": "markdown",
   "metadata": {},
   "source": [
    "## Dask Delayed\n",
    "Now let's try and solve the three variations in parallel. This is an embarassingly parallel problem, as each operation is completely seperate from the other. "
   ]
  },
  {
   "cell_type": "code",
   "execution_count": null,
   "metadata": {},
   "outputs": [],
   "source": [
    "import dask"
   ]
  },
  {
   "cell_type": "code",
   "execution_count": null,
   "metadata": {},
   "outputs": [],
   "source": [
    "%%time\n",
    "lazy_H = []\n",
    "for f in [Vfun1,Vfun2,Vfun3]:\n",
    "    H_temp = dask.delayed(schrodinger1D)(f)\n",
    "    lazy_H.append(H_temp)"
   ]
  },
  {
   "cell_type": "code",
   "execution_count": null,
   "metadata": {},
   "outputs": [],
   "source": [
    "lazy_H"
   ]
  },
  {
   "cell_type": "code",
   "execution_count": null,
   "metadata": {},
   "outputs": [],
   "source": [
    "%%time \n",
    "HH = dask.compute(*lazy_H)"
   ]
  },
  {
   "cell_type": "markdown",
   "metadata": {},
   "source": [
    "Done! That is it. You can now run the schrodinger1D as many times as you like in parallel and dask will take of distributing out the work to as many cpus as it can gets its threads on!"
   ]
  },
  {
   "cell_type": "markdown",
   "metadata": {},
   "source": [
    "<div class=\"challenge\">\n",
    "\n",
    "### Challenge 1\n",
    "\n",
    "Can you modify some of the parameters in the schrodinger1D function and see how the timing changes?\n",
    "\n",
    "    \n",
    "<details>\n",
    "<summary>Solution</summary>\n",
    "\n",
    "Try changing the xmin, xmax, and Nx parameter. These adjust the resolution of the model. You can quickly see how you may want to parallelise this code as each numerical solution can take a long time at high-resolutions.\n",
    "    \n",
    "```python\n",
    "xmin = -100\n",
    "xmax = 100\n",
    "Nx = 500\n",
    "```\n",
    "    \n",
    "Then re-run with\n",
    "```python\n",
    "%%time\n",
    "H = schrodinger1D(Vfun1)\n",
    "```\n",
    "\n",
    "</details>\n",
    "</div>"
   ]
  },
  {
   "cell_type": "markdown",
   "metadata": {},
   "source": [
    "<div class=\"exercise\">\n",
    "\n",
    "### Exercise 1 Multiple inputs\n",
    "\n",
    "Can you re-write the the schrodinger1D function to accept \"params\" as an argument, then run multiple parameter configurations with a single Potential Energy function?\n",
    "\n",
    "\n",
    "<details>\n",
    "<summary>Step 1</summary>\n",
    "    \n",
    "Modify the *schrodinger1D* function to accept an additional argument, and pass that argument to the Vfun call.\n",
    "    \n",
    "```python\n",
    "#Need to change line 1\n",
    "def schrodinger1D(Vfun, params): \n",
    "    ...\n",
    "    # And change line 29\n",
    "    V = Vfun(x, params = params)\n",
    "```\n",
    " \n",
    "</details>\n",
    "\n",
    "<details>\n",
    "<summary>Step 2</summary>\n",
    "    \n",
    "Choose the Vfun you want to explore, and make a list of parameters we want to sweep. I will be looking at Vfun3. A way to make a set of params is to use the *product* function from the **itertools** package.\n",
    "\n",
    "```python\n",
    "import itertools\n",
    "param_config = [[-1,0,1],[-1,0,1],[-1,0,1]]\n",
    "params=list(map(list, itertools.product(*param_config)))\n",
    "print(params)\n",
    "```\n",
    "   \n",
    "```output\n",
    "[-1, -1, -1]\n",
    "[-1, -1, 0]\n",
    "[-1, -1, 1]\n",
    "[-1, 0, -1]\n",
    "[-1, 0, 0]\n",
    "[-1, 0, 1]\n",
    "[-1, 1, -1]\n",
    "[-1, 1, 0]\n",
    "[-1, 1, 1]\n",
    "[0, -1, -1]\n",
    "[0, -1, 0]\n",
    "[0, -1, 1]\n",
    "[0, 0, -1]\n",
    "[0, 0, 0]\n",
    "[0, 0, 1]\n",
    "[0, 1, -1]\n",
    "[0, 1, 0]\n",
    "[0, 1, 1]\n",
    "[1, -1, -1]\n",
    "[1, -1, 0]\n",
    "[1, -1, 1]\n",
    "[1, 0, -1]\n",
    "[1, 0, 0]\n",
    "[1, 0, 1]\n",
    "[1, 1, -1]\n",
    "[1, 1, 0]\n",
    "[1, 1, 1]\n",
    "```\n",
    " \n",
    "</details>\n",
    "\n",
    "\n",
    "<details>\n",
    "<summary>Step 3</summary>\n",
    "\n",
    "Re-write the dask delayed function to include your new paramaters.\n",
    "    \n",
    "```python\n",
    "%%time\n",
    "lazy_H = []\n",
    "for param in params:\n",
    "    print(params)\n",
    "    H_temp = dask.delayed(schrodinger1D)(Vfun3, param)\n",
    "    lazy_H.append(H_temp)\n",
    "    \n",
    "lazy_H.compute()\n",
    "    \n",
    "```\n",
    "\n",
    "</details>\n",
    "</div>"
   ]
  },
  {
   "cell_type": "markdown",
   "metadata": {},
   "source": [
    "<div class=\"exercise\">\n",
    "\n",
    "### Exercise 2 Multiprocessing vs Dask\n",
    "\n",
    "How do you implement this same functionality in native Python Multiprocessing?\n",
    "\n",
    "    \n",
    "<details>\n",
    "<summary>Solution</summary>\n",
    "    \n",
    "The answer looks something like this:\n",
    "```python\n",
    "with Pool(processes=ncpus) as pool: \n",
    "    y=pool.imap(schrodinger1D, [Vfun1,Vfun2,Vfun3])\n",
    "    pool.close()\n",
    "    pool.join()\n",
    "    outputs = [result for result in y]\n",
    "```\n",
    "    \n",
    "See the complete solution and description here: [schrodinger1D.py](https://raw.githubusercontent.com/Sydney-Informatics-Hub/ParallelPython/main/notebooks/schrodinger1D.py)\n",
    "    \n",
    "</details>\n",
    "</div>\n"
   ]
  },
  {
   "cell_type": "markdown",
   "metadata": {},
   "source": [
    "<div class=\"keypoints\">\n",
    "\n",
    "### Key points\n",
    "\n",
    "- Dask can be used for embarassingly parallel problems.\n",
    "- Finding where to make your code faster and understanding what kind of code/data you can determine which approaches you use.\n",
    "\n",
    "\n",
    "</div>\n"
   ]
  },
  {
   "cell_type": "code",
   "execution_count": null,
   "metadata": {},
   "outputs": [],
   "source": []
  }
 ],
 "metadata": {
  "kernelspec": {
   "display_name": "Python 3",
   "language": "python",
   "name": "python3"
  },
  "language_info": {
   "codemirror_mode": {
    "name": "ipython",
    "version": 3
   },
   "file_extension": ".py",
   "mimetype": "text/x-python",
   "name": "python",
   "nbconvert_exporter": "python",
   "pygments_lexer": "ipython3",
   "version": "3.8.5"
  }
 },
 "nbformat": 4,
 "nbformat_minor": 5
}
