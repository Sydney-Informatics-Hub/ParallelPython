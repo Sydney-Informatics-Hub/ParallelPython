{
 "cells": [
  {
   "cell_type": "markdown",
   "id": "246855e0-0c22-495b-8f67-bc9b30c0c95e",
   "metadata": {},
   "source": [
    "# Scientific Computing - Applications to Quantum\n",
    "\n",
    "<div class=\"questions\">\n",
    "\n",
    "### Questions\n",
    "\n",
    "- Can Dask be used for embarassingly parallel problems?\n",
    "- How do you apply it to real functions?\n",
    "\n",
    "</div>\n",
    "\n",
    "<div class=\"objectives\">\n",
    "  \n",
    "### Objectives\n",
    "\n",
    "- Learn about dask delayed\n",
    "- Apply delayed to real problems\n",
    "- Learn to profile code\n",
    "\n",
    "</div>\n"
   ]
  },
  {
   "cell_type": "code",
   "execution_count": 2,
   "id": "b5712fc6-1612-4a2a-a7ea-c98bc5ecf83e",
   "metadata": {},
   "outputs": [],
   "source": [
    "# Import the packages we need\n",
    "import numpy as np\n",
    "import matplotlib.pyplot as plt\n",
    "from scipy import sparse\n",
    "from scipy.sparse import linalg as sla\n",
    "import time"
   ]
  },
  {
   "cell_type": "markdown",
   "id": "78cb80a5-9c4d-40a7-bd22-b2a646852273",
   "metadata": {},
   "source": [
    "Define a \"computationally intensive\" function."
   ]
  },
  {
   "cell_type": "code",
   "execution_count": 4,
   "id": "b6597e28-15da-4e3c-bd94-6d8ec42169ad",
   "metadata": {},
   "outputs": [],
   "source": [
    "def schrodinger1D(Vfun):\n",
    "    \"\"\"\n",
    "    Solves the 1 dimensional Schrodinger equation numerically\n",
    "    \n",
    "    ------ Inputs ------\n",
    "    Vfun: function, potential energy function\n",
    "    \n",
    "    ------- Returns -------\n",
    "    evl: np.array, eigenvalues\n",
    "    evt: np.array, eigenvectors\n",
    "    x: np.array, x axis values\n",
    "        \n",
    "    ------- Params to set -------\n",
    "    xmin: minimum value of the x axis\n",
    "    xmax: maximum value of the x axis\n",
    "    Nx: number of finite elements in the x axis\n",
    "    neigs: number of eigenvalues to find\n",
    "    \"\"\"\n",
    "    \n",
    "    xmin = -10\n",
    "    xmax = 10\n",
    "    Nx = 250\n",
    "    neigs = 5\n",
    "\n",
    "    # for this code we are using Dirichlet Boundary Conditions\n",
    "    x = np.linspace(xmin, xmax, Nx)  # x axis grid\n",
    "    dx = x[1] - x[0]  # x axis step size\n",
    "    # Obtain the potential function values:\n",
    "    V = Vfun(x)\n",
    "    # create the Hamiltonian Operator matrix:\n",
    "    H = sparse.eye(Nx, Nx, format = \"lil\") * 2\n",
    "    for i in range(Nx - 1):\n",
    "        H[i, i + 1] = -1\n",
    "        H[i + 1, i] = -1\n",
    "        \n",
    "    H = H / (dx ** 2)\n",
    "    # Add the potential into the Hamiltonian\n",
    "    for i in range(Nx):\n",
    "        H[i, i] = H[i, i] + V[i]\n",
    "    # convert to csc matrix format\n",
    "    H = H.tocsc()\n",
    "    \n",
    "    # obtain neigs solutions from the sparse matrix\n",
    "    [evl, evt] = sla.eigs(H, k = neigs, which = \"SM\")\n",
    "    for i in range(neigs):\n",
    "        # normalize the eigen vectors\n",
    "        evt[:, i] = evt[:, i] / np.sqrt(\n",
    "                                np.trapz(np.conj(\n",
    "                                evt[:, i]) * evt[:, i], x))\n",
    "        # eigen values MUST be real:\n",
    "        evl = np.real(evl)\n",
    "    \n",
    "    return evl, evt, x"
   ]
  },
  {
   "cell_type": "markdown",
   "id": "8c0ccbbd-039d-4785-a9f4-1188040d409d",
   "metadata": {},
   "source": [
    "Define a function to plot H."
   ]
  },
  {
   "cell_type": "code",
   "execution_count": 5,
   "id": "fec6ba12-2938-493e-937a-eb7ac698d3b8",
   "metadata": {},
   "outputs": [],
   "source": [
    "def plot_H(H,neigs=5):\n",
    "    evl = H[0] # energy eigen values\n",
    "    indices = np.argsort(evl)\n",
    "\n",
    "    print(\"Energy eigenvalues:\")\n",
    "    for i,j in enumerate(evl[indices]):\n",
    "        print(\"{}: {:.2f}\".format(i + 1, j))\n",
    "\n",
    "    evt = H[1] # eigen vectors \n",
    "    x = H[2] # x dimensions \n",
    "    i = 0\n",
    "\n",
    "    plt.figure(figsize = (4, 2))\n",
    "    while i < neigs:\n",
    "        n = indices[i]\n",
    "        y = np.real(np.conj(evt[:, n]) * evt[:, n])  \n",
    "        plt.subplot(neigs, 1, i+1)  \n",
    "        plt.plot(x, y)\n",
    "        plt.axis('off')\n",
    "        i = i + 1  \n",
    "    plt.show()"
   ]
  },
  {
   "cell_type": "markdown",
   "id": "788904dd-32f0-4ea3-ada0-cc8f00c47bce",
   "metadata": {},
   "source": [
    "Define some potenial energy functions we want to explore."
   ]
  },
  {
   "cell_type": "code",
   "execution_count": 7,
   "id": "58baf38c-17b9-480a-95c1-f795a806c903",
   "metadata": {},
   "outputs": [],
   "source": [
    "def Vfun1(x, params=[1]):\n",
    "    '''\n",
    "    Quantum harmonic oscillator potential energy function\n",
    "    '''\n",
    "    V = params[0] * x**2\n",
    "    return V\n",
    "    \n",
    "    \n",
    "def Vfun2(x, params = 1e10):\n",
    "    '''\n",
    "    Infinite well potential energy function\n",
    "    '''\n",
    "    V = x * 0\n",
    "    V[:100]=params\n",
    "    V[-100:]=params\n",
    "    return V\n",
    "   \n",
    "    \n",
    "def Vfun3(x, params = [-0.5, 0.01, 7]):\n",
    "    '''\n",
    "    Double well potential energy function\n",
    "    '''\n",
    "    A = params[0]\n",
    "    B = params[1]\n",
    "    C = params[2]\n",
    "    V = A * x ** 2 + B * x ** 4 + C\n",
    "    return V"
   ]
  },
  {
   "cell_type": "markdown",
   "id": "c8a53e77-f649-43c9-ab70-9d8cd823c5a7",
   "metadata": {},
   "source": [
    "Let's get an idea for how long our schrodinger equation takes to solve."
   ]
  },
  {
   "cell_type": "code",
   "execution_count": 8,
   "id": "e3ca3720-574f-4afd-a84d-210bd0e8036b",
   "metadata": {},
   "outputs": [
    {
     "name": "stdout",
     "output_type": "stream",
     "text": [
      "CPU times: total: 78.1 ms\n",
      "Wall time: 57.1 ms\n"
     ]
    }
   ],
   "source": [
    "%%time\n",
    "H = schrodinger1D(Vfun1)"
   ]
  },
  {
   "cell_type": "code",
   "execution_count": 9,
   "id": "232dfa52-0af7-44aa-81e7-5575da9fd035",
   "metadata": {},
   "outputs": [
    {
     "name": "stdout",
     "output_type": "stream",
     "text": [
      "Energy eigenvalues:\n",
      "1: 1.00\n",
      "2: 3.00\n",
      "3: 4.99\n",
      "4: 6.99\n",
      "5: 8.98\n"
     ]
    },
    {
     "data": {
      "image/png": "[encoded data removed]",
      "text/plain": [
       "<Figure size 400x200 with 5 Axes>"
      ]
     },
     "metadata": {},
     "output_type": "display_data"
    }
   ],
   "source": [
    "plot_H(H)"
   ]
  },
  {
   "cell_type": "code",
   "execution_count": 10,
   "id": "75b32d8d-6fc5-45a3-9027-dea1e4135fe1",
   "metadata": {},
   "outputs": [
    {
     "name": "stdout",
     "output_type": "stream",
     "text": [
      " \n",
      "*** Profile printout saved to text file 'profile.txt'.\n"
     ]
    }
   ],
   "source": [
    "%%prun -s cumulative -q -l 10 -T profile.txt\n",
    "    \n",
    "H = schrodinger1D(Vfun1)"
   ]
  },
  {
   "cell_type": "markdown",
   "id": "b941d1dc-9167-4700-a837-12b3b6ec59a1",
   "metadata": {},
   "source": [
    "```\n",
    "         51234 function calls (51201 primitive calls) in 243.228 seconds\n",
    "\n",
    "   Ordered by: cumulative time\n",
    "   List reduced from 214 to 10 due to restriction <10>\n",
    "\n",
    "   ncalls  tottime  percall  cumtime  percall filename:lineno(function)\n",
    "        1    0.000    0.000  243.228  243.228 {built-in method builtins.exec}\n",
    "        1    0.000    0.000  243.228  243.228 <string>:1(<module>)\n",
    "        1    0.003    0.003  243.227  243.227 3456611332.py:13(schrodinger1D)\n",
    "        1    0.303    0.303  243.196  243.196 arpack.py:1096(eigs)\n",
    "      876  240.090    0.274  242.492    0.277 arpack.py:719(iterate)\n",
    "      875    0.121    0.000    2.402    0.003 _interface.py:201(matvec)\n",
    "      875    0.107    0.000    2.173    0.002 _interface.py:189(_matvec)\n",
    "      875    0.205    0.000    2.059    0.002 _interface.py:303(matmat)\n",
    "      875    0.008    0.000    1.852    0.002 _interface.py:730(_matmat)\n",
    "      875    0.104    0.000    1.844    0.002 _base.py:400(dot)\n",
    " ```\n",
    " \n",
    "Okay. There may not be anything we can improve of greatly. The slowest part is a highly optimised scipy subroutine that is calling fortran under-the-hood! So what if we wanted to run this function 2 times, 3 times, a million times? Perhaps trying different configuration parameters, or specifically here, different potential energy functions."
   ]
  },
  {
   "cell_type": "code",
   "execution_count": 11,
   "id": "ac32b095-18c9-4a8e-8305-27474d209fe6",
   "metadata": {},
   "outputs": [
    {
     "name": "stdout",
     "output_type": "stream",
     "text": [
      "0.022294044494628906 s for <function Vfun1 at 0x000001A97F662DC0>\n",
      "0.02023482322692871 s for <function Vfun2 at 0x000001A97F662E50>\n",
      "0.053911447525024414 s for <function Vfun3 at 0x000001A97F662EE0>\n"
     ]
    }
   ],
   "source": [
    "#The slow way: Loop through each of the PE definitions \n",
    "# and run the function one at a time.\n",
    "H = []\n",
    "for f in [Vfun1,Vfun2,Vfun3] :\n",
    "    tic = time.time()\n",
    "    result = schrodinger1D(f)\n",
    "    print(time.time() - tic, \"s for\", f)\n",
    "    H.append(result)"
   ]
  },
  {
   "cell_type": "code",
   "execution_count": 12,
   "id": "af65f2e5-dbc2-4bb6-8d35-c1f87ed11986",
   "metadata": {},
   "outputs": [],
   "source": [
    "#The DASK embarassingly parallel way!\n",
    "import dask"
   ]
  },
  {
   "cell_type": "code",
   "execution_count": 13,
   "id": "0aaf9d82-3642-4bb0-a675-2d8eb750873c",
   "metadata": {},
   "outputs": [
    {
     "name": "stdout",
     "output_type": "stream",
     "text": [
      "CPU times: total: 0 ns\n",
      "Wall time: 0 ns\n"
     ]
    }
   ],
   "source": [
    "%%time\n",
    "lazy_H = []\n",
    "for f in [Vfun1,Vfun2,Vfun3]:\n",
    "    H_temp = dask.delayed(schrodinger1D)(f)\n",
    "    lazy_H.append(H_temp)"
   ]
  },
  {
   "cell_type": "code",
   "execution_count": 14,
   "id": "49d214d7-31ad-49eb-a97b-c1c4a70291f6",
   "metadata": {},
   "outputs": [
    {
     "data": {
      "text/plain": [
       "[Delayed('schrodinger1D-e209d7d7-5784-410f-acd1-829458ab1f8e'),\n",
       " Delayed('schrodinger1D-689fef4f-21d2-4dba-8439-7f281693bc21'),\n",
       " Delayed('schrodinger1D-db753a7f-4fb2-4ce2-b902-1edfc8aac473')]"
      ]
     },
     "execution_count": 14,
     "metadata": {},
     "output_type": "execute_result"
    }
   ],
   "source": [
    "lazy_H"
   ]
  },
  {
   "cell_type": "code",
   "execution_count": 15,
   "id": "654686fa-7b32-4c4f-b6c7-68e8340069a9",
   "metadata": {},
   "outputs": [
    {
     "name": "stdout",
     "output_type": "stream",
     "text": [
      "CPU times: total: 156 ms\n",
      "Wall time: 147 ms\n"
     ]
    }
   ],
   "source": [
    "%%time \n",
    "\n",
    "HH = dask.compute(*lazy_H)"
   ]
  },
  {
   "cell_type": "markdown",
   "id": "f83747c3-7730-4d69-a3ee-09969b4e573e",
   "metadata": {},
   "source": [
    "<div class=\"challenge\">\n",
    "\n",
    "### Challenge \n",
    "\n",
    "Can you write you change some of the parameters in the schrodinger1D function and see how the timing changes?\n",
    "\n",
    "Can you write your own PE function and add it to the dask delayed lazy compute list?\n",
    "    \n",
    "<details>\n",
    "<summary>Solution</summary>\n",
    "\n",
    "Try changing the Nx parameter.\n",
    "```python\n",
    "Nx = 250\n",
    "```\n",
    "\n",
    "</details>\n",
    "</div>"
   ]
  },
  {
   "cell_type": "markdown",
   "id": "a0cd2f9d-95d1-44c9-9aa0-9f86ab220030",
   "metadata": {},
   "source": [
    "<div class=\"keypoints\">\n",
    "\n",
    "### Key points\n",
    "\n",
    "- Dask can be used for embarassingly parallel problems.\n",
    "- Finding where to make your code faster and understanding what kind of code/data you can determine which approaches you use.\n",
    "\n",
    "\n",
    "</div>\n"
   ]
  },
  {
   "cell_type": "code",
   "execution_count": null,
   "id": "7823a462-1e5d-43cc-8d1d-e7104e7936a4",
   "metadata": {},
   "outputs": [],
   "source": []
  }
 ],
 "metadata": {
  "kernelspec": {
   "display_name": "Python 3 (ipykernel)",
   "language": "python",
   "name": "python3"
  },
  "language_info": {
   "codemirror_mode": {
    "name": "ipython",
    "version": 3
   },
   "file_extension": ".py",
   "mimetype": "text/x-python",
   "name": "python",
   "nbconvert_exporter": "python",
   "pygments_lexer": "ipython3",
   "version": "3.9.13"
  }
 },
 "nbformat": 4,
 "nbformat_minor": 5
}
